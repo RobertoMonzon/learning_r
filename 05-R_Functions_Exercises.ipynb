{
 "cells": [
  {
   "cell_type": "markdown",
   "id": "c0aebe0e",
   "metadata": {},
   "source": [
    "# R Functions Exercises"
   ]
  },
  {
   "cell_type": "markdown",
   "id": "ece4ced4",
   "metadata": {},
   "source": [
    "Let's test your knowledge of functions in R! For these exercisee you be given instructions to create functions that take in certain inputs and give certain outputs. Just follow any instructions written in bold below. The first two are examples done for you.\n",
    "\n"
   ]
  },
  {
   "cell_type": "markdown",
   "id": "d7f90930",
   "metadata": {},
   "source": [
    "### EXAMPLE 1: Create a function that takes in a name as a string argument, and prints out \"Hello name\""
   ]
  },
  {
   "cell_type": "code",
   "execution_count": 1,
   "id": "bd85d851",
   "metadata": {},
   "outputs": [],
   "source": [
    "hello_you <- function(name){\n",
    "    print(paste('Hello',name))\n",
    "}"
   ]
  },
  {
   "cell_type": "code",
   "execution_count": 2,
   "id": "cfe5e222",
   "metadata": {},
   "outputs": [
    {
     "name": "stdout",
     "output_type": "stream",
     "text": [
      "[1] \"Hello Roberto\"\n"
     ]
    }
   ],
   "source": [
    "hello_you(\"Roberto\")"
   ]
  },
  {
   "cell_type": "markdown",
   "id": "a1f2bde2",
   "metadata": {},
   "source": [
    "### EXAMPLE 2: Create a function that takes in a name as a string argument and returns a string of the form - \"Hello name\""
   ]
  },
  {
   "cell_type": "code",
   "execution_count": 26,
   "id": "723d02b4",
   "metadata": {
    "scrolled": true
   },
   "outputs": [
    {
     "name": "stdout",
     "output_type": "stream",
     "text": [
      "Type your name: Alexis\n"
     ]
    }
   ],
   "source": [
    "name=readline(\"Type your name: \")"
   ]
  },
  {
   "cell_type": "code",
   "execution_count": 29,
   "id": "56c8cf24",
   "metadata": {
    "scrolled": false
   },
   "outputs": [
    {
     "data": {
      "text/html": [
       "<span style=white-space:pre-wrap>'Hello  Alexis'</span>"
      ],
      "text/latex": [
       "'Hello  Alexis'"
      ],
      "text/markdown": [
       "<span style=white-space:pre-wrap>'Hello  Alexis'</span>"
      ],
      "text/plain": [
       "[1] \"Hello  Alexis\""
      ]
     },
     "metadata": {},
     "output_type": "display_data"
    }
   ],
   "source": [
    "hello_name = function(name){\n",
    "    return(paste(\"Hello \",name))\n",
    "}\n",
    "\n",
    "hello_name(name)"
   ]
  },
  {
   "cell_type": "markdown",
   "id": "56cca25c",
   "metadata": {},
   "source": [
    "### Ex 1: Create a function that will return the product of two integers."
   ]
  },
  {
   "cell_type": "code",
   "execution_count": 36,
   "id": "562e0390",
   "metadata": {},
   "outputs": [
    {
     "name": "stdout",
     "output_type": "stream",
     "text": [
      "Write a number: 120\n",
      "Write another integer: 3\n"
     ]
    }
   ],
   "source": [
    "int_a=as.integer(readline(\"Write a number: \"))\n",
    "int_b=as.integer(readline(\"Write another integer: \"))"
   ]
  },
  {
   "cell_type": "code",
   "execution_count": 33,
   "id": "6d5d0ff6",
   "metadata": {},
   "outputs": [],
   "source": [
    "product=function(int_a,int_b){\n",
    "    return (int_a * int_b)\n",
    "}"
   ]
  },
  {
   "cell_type": "code",
   "execution_count": 37,
   "id": "ca39bf21",
   "metadata": {
    "scrolled": true
   },
   "outputs": [
    {
     "name": "stdout",
     "output_type": "stream",
     "text": [
      "[1] 360\n"
     ]
    }
   ],
   "source": [
    "print(product(int_a,int_b))"
   ]
  },
  {
   "cell_type": "markdown",
   "id": "a46240cf",
   "metadata": {},
   "source": [
    "### Ex 2: Create a function that accepts two arguments, an integer and a vector of integers. It returns TRUE if the integer is present in the vector, otherwise it returns FALSE. Make sure you pay careful attention to your placement of the return(FALSE) line in your function!"
   ]
  },
  {
   "cell_type": "code",
   "execution_count": 39,
   "id": "aa2f69f8",
   "metadata": {
    "scrolled": true
   },
   "outputs": [
    {
     "data": {
      "text/html": [
       "<ol class=list-inline>\n",
       "\t<li>1</li>\n",
       "\t<li>2</li>\n",
       "\t<li>3</li>\n",
       "\t<li>4</li>\n",
       "\t<li>5</li>\n",
       "\t<li>6</li>\n",
       "\t<li>7</li>\n",
       "\t<li>8</li>\n",
       "\t<li>9</li>\n",
       "\t<li>10</li>\n",
       "\t<li>11</li>\n",
       "\t<li>12</li>\n",
       "\t<li>13</li>\n",
       "\t<li>14</li>\n",
       "\t<li>15</li>\n",
       "\t<li>16</li>\n",
       "\t<li>17</li>\n",
       "\t<li>18</li>\n",
       "\t<li>19</li>\n",
       "\t<li>20</li>\n",
       "\t<li>21</li>\n",
       "\t<li>22</li>\n",
       "\t<li>23</li>\n",
       "\t<li>24</li>\n",
       "\t<li>25</li>\n",
       "</ol>\n"
      ],
      "text/latex": [
       "\\begin{enumerate*}\n",
       "\\item 1\n",
       "\\item 2\n",
       "\\item 3\n",
       "\\item 4\n",
       "\\item 5\n",
       "\\item 6\n",
       "\\item 7\n",
       "\\item 8\n",
       "\\item 9\n",
       "\\item 10\n",
       "\\item 11\n",
       "\\item 12\n",
       "\\item 13\n",
       "\\item 14\n",
       "\\item 15\n",
       "\\item 16\n",
       "\\item 17\n",
       "\\item 18\n",
       "\\item 19\n",
       "\\item 20\n",
       "\\item 21\n",
       "\\item 22\n",
       "\\item 23\n",
       "\\item 24\n",
       "\\item 25\n",
       "\\end{enumerate*}\n"
      ],
      "text/markdown": [
       "1. 1\n",
       "2. 2\n",
       "3. 3\n",
       "4. 4\n",
       "5. 5\n",
       "6. 6\n",
       "7. 7\n",
       "8. 8\n",
       "9. 9\n",
       "10. 10\n",
       "11. 11\n",
       "12. 12\n",
       "13. 13\n",
       "14. 14\n",
       "15. 15\n",
       "16. 16\n",
       "17. 17\n",
       "18. 18\n",
       "19. 19\n",
       "20. 20\n",
       "21. 21\n",
       "22. 22\n",
       "23. 23\n",
       "24. 24\n",
       "25. 25\n",
       "\n",
       "\n"
      ],
      "text/plain": [
       " [1]  1  2  3  4  5  6  7  8  9 10 11 12 13 14 15 16 17 18 19 20 21 22 23 24 25"
      ]
     },
     "metadata": {},
     "output_type": "display_data"
    }
   ],
   "source": [
    "arg_1=c(1:25)\n",
    "arg_1"
   ]
  },
  {
   "cell_type": "code",
   "execution_count": 40,
   "id": "ff431473",
   "metadata": {},
   "outputs": [
    {
     "name": "stdout",
     "output_type": "stream",
     "text": [
      "Write a number: 22\n"
     ]
    }
   ],
   "source": [
    "arg_2=readline(\"Write a number: \")"
   ]
  },
  {
   "cell_type": "code",
   "execution_count": 46,
   "id": "532f22fa",
   "metadata": {},
   "outputs": [],
   "source": [
    "is_in = function(arg_1,arg_2){\n",
    "    for (num in arg_1){\n",
    "        if (num == arg_2){\n",
    "            return (T)\n",
    "        }\n",
    "    }\n",
    "    return (F)\n",
    "}"
   ]
  },
  {
   "cell_type": "code",
   "execution_count": 47,
   "id": "ec9ed38c",
   "metadata": {
    "scrolled": true
   },
   "outputs": [
    {
     "data": {
      "text/html": [
       "TRUE"
      ],
      "text/latex": [
       "TRUE"
      ],
      "text/markdown": [
       "TRUE"
      ],
      "text/plain": [
       "[1] TRUE"
      ]
     },
     "metadata": {},
     "output_type": "display_data"
    }
   ],
   "source": [
    "is_in(arg_1,arg_2)"
   ]
  },
  {
   "cell_type": "code",
   "execution_count": 48,
   "id": "d066fbef",
   "metadata": {
    "scrolled": true
   },
   "outputs": [
    {
     "data": {
      "text/html": [
       "FALSE"
      ],
      "text/latex": [
       "FALSE"
      ],
      "text/markdown": [
       "FALSE"
      ],
      "text/plain": [
       "[1] FALSE"
      ]
     },
     "metadata": {},
     "output_type": "display_data"
    }
   ],
   "source": [
    "is_in(arg_1,26)"
   ]
  },
  {
   "cell_type": "markdown",
   "id": "afbdbdc2",
   "metadata": {},
   "source": [
    "### Ex 3: Create a function that accepts two arguments, an integer and a vector of integers. It returns the count of the number of occurences of the integer in the input vector."
   ]
  },
  {
   "cell_type": "code",
   "execution_count": 49,
   "id": "fa60f1d0",
   "metadata": {},
   "outputs": [
    {
     "name": "stdout",
     "output_type": "stream",
     "text": [
      "Write a number: 2\n"
     ]
    }
   ],
   "source": [
    "arg_a=readline(\"Write a number: \")"
   ]
  },
  {
   "cell_type": "code",
   "execution_count": 51,
   "id": "19ee7d68",
   "metadata": {
    "scrolled": true
   },
   "outputs": [
    {
     "data": {
      "text/html": [
       "<ol class=list-inline>\n",
       "\t<li>1</li>\n",
       "\t<li>2</li>\n",
       "\t<li>3</li>\n",
       "\t<li>4</li>\n",
       "\t<li>5</li>\n",
       "\t<li>6</li>\n",
       "\t<li>7</li>\n",
       "\t<li>8</li>\n",
       "\t<li>9</li>\n",
       "\t<li>10</li>\n",
       "\t<li>1</li>\n",
       "\t<li>2</li>\n",
       "\t<li>3</li>\n",
       "\t<li>4</li>\n",
       "\t<li>5</li>\n",
       "\t<li>6</li>\n",
       "\t<li>7</li>\n",
       "\t<li>1</li>\n",
       "\t<li>2</li>\n",
       "\t<li>3</li>\n",
       "\t<li>4</li>\n",
       "\t<li>5</li>\n",
       "\t<li>6</li>\n",
       "\t<li>7</li>\n",
       "\t<li>8</li>\n",
       "\t<li>9</li>\n",
       "\t<li>10</li>\n",
       "</ol>\n"
      ],
      "text/latex": [
       "\\begin{enumerate*}\n",
       "\\item 1\n",
       "\\item 2\n",
       "\\item 3\n",
       "\\item 4\n",
       "\\item 5\n",
       "\\item 6\n",
       "\\item 7\n",
       "\\item 8\n",
       "\\item 9\n",
       "\\item 10\n",
       "\\item 1\n",
       "\\item 2\n",
       "\\item 3\n",
       "\\item 4\n",
       "\\item 5\n",
       "\\item 6\n",
       "\\item 7\n",
       "\\item 1\n",
       "\\item 2\n",
       "\\item 3\n",
       "\\item 4\n",
       "\\item 5\n",
       "\\item 6\n",
       "\\item 7\n",
       "\\item 8\n",
       "\\item 9\n",
       "\\item 10\n",
       "\\end{enumerate*}\n"
      ],
      "text/markdown": [
       "1. 1\n",
       "2. 2\n",
       "3. 3\n",
       "4. 4\n",
       "5. 5\n",
       "6. 6\n",
       "7. 7\n",
       "8. 8\n",
       "9. 9\n",
       "10. 10\n",
       "11. 1\n",
       "12. 2\n",
       "13. 3\n",
       "14. 4\n",
       "15. 5\n",
       "16. 6\n",
       "17. 7\n",
       "18. 1\n",
       "19. 2\n",
       "20. 3\n",
       "21. 4\n",
       "22. 5\n",
       "23. 6\n",
       "24. 7\n",
       "25. 8\n",
       "26. 9\n",
       "27. 10\n",
       "\n",
       "\n"
      ],
      "text/plain": [
       " [1]  1  2  3  4  5  6  7  8  9 10  1  2  3  4  5  6  7  1  2  3  4  5  6  7  8\n",
       "[26]  9 10"
      ]
     },
     "metadata": {},
     "output_type": "display_data"
    }
   ],
   "source": [
    "arg_b=c(1:10,1:7,1:4,5:10)\n",
    "arg_b"
   ]
  },
  {
   "cell_type": "code",
   "execution_count": 53,
   "id": "acdf801d",
   "metadata": {},
   "outputs": [],
   "source": [
    "count_args= function(arg_a,arg_b){\n",
    "    total=0\n",
    "    for (num in arg_b){\n",
    "        if (num == arg_a){\n",
    "            total=total+1\n",
    "        }\n",
    "    }\n",
    "    return (total)\n",
    "}"
   ]
  },
  {
   "cell_type": "code",
   "execution_count": 54,
   "id": "f94774db",
   "metadata": {},
   "outputs": [
    {
     "data": {
      "text/html": [
       "3"
      ],
      "text/latex": [
       "3"
      ],
      "text/markdown": [
       "3"
      ],
      "text/plain": [
       "[1] 3"
      ]
     },
     "metadata": {},
     "output_type": "display_data"
    }
   ],
   "source": [
    "count_args(arg_a,arg_b)"
   ]
  },
  {
   "cell_type": "markdown",
   "id": "c7a1590d",
   "metadata": {},
   "source": [
    "### Ex 4: We want to ship bars of aluminum. We will create a function that accepts an integer representing the requested kilograms of aluminum for the package to be shipped. To fullfill these order, we have small bars (1 kilogram each) and big bars (5 kilograms each). Return the least number of bars needed."
   ]
  },
  {
   "cell_type": "markdown",
   "id": "59a1b6ae",
   "metadata": {},
   "source": [
    "#### For example, a load of 6 kg requires a minimum of two bars (1 5kg bars and 1 1kg bars). A load of 17 kg requires a minimum of 5 bars (3 5kg bars and 2 1kg bars)."
   ]
  },
  {
   "cell_type": "code",
   "execution_count": 87,
   "id": "21a310ee",
   "metadata": {
    "scrolled": true
   },
   "outputs": [
    {
     "name": "stdout",
     "output_type": "stream",
     "text": [
      "Type a number: 17\n"
     ]
    }
   ],
   "source": [
    "load=as.integer(readline(\"Type a number: \"))"
   ]
  },
  {
   "cell_type": "code",
   "execution_count": 83,
   "id": "46a8259f",
   "metadata": {},
   "outputs": [],
   "source": [
    "total_bar = function(load){\n",
    "    small_bar=0\n",
    "    big_bar=0\n",
    "    if ((load %% 5) == 0){\n",
    "        big_bar = load/5\n",
    "        return(paste(\"you will need\",big_bar,\"big bars\"))\n",
    "    }else if((load %% 5) != 0 & (load > 5)){\n",
    "        while((load %% 5) != 0){\n",
    "            load=load - 1\n",
    "            small_bar=small_bar + 1\n",
    "            if ((load %% 5) == 0){\n",
    "                big_bar= load/5\n",
    "                return(paste(\"You will need \",big_bar,\" big bars and \",small_bar,\" small bars\"))\n",
    "            }\n",
    "        }  \n",
    "    }else if (load < 5){\n",
    "        small_bar=load/1\n",
    "            return (paste(\"You will need \",small_bar,\" small bars\"))\n",
    "        }\n",
    "}"
   ]
  },
  {
   "cell_type": "markdown",
   "id": "60248897",
   "metadata": {},
   "source": [
    "#### try:"
   ]
  },
  {
   "cell_type": "code",
   "execution_count": 71,
   "id": "d24cda50",
   "metadata": {
    "scrolled": true
   },
   "outputs": [
    {
     "data": {
      "text/html": [
       "<span style=white-space:pre-wrap>'You will need  3  big bars and  2  small bars'</span>"
      ],
      "text/latex": [
       "'You will need  3  big bars and  2  small bars'"
      ],
      "text/markdown": [
       "<span style=white-space:pre-wrap>'You will need  3  big bars and  2  small bars'</span>"
      ],
      "text/plain": [
       "[1] \"You will need  3  big bars and  2  small bars\""
      ]
     },
     "metadata": {},
     "output_type": "display_data"
    }
   ],
   "source": [
    "total_bar(load)"
   ]
  },
  {
   "cell_type": "code",
   "execution_count": 88,
   "id": "32d9b40b",
   "metadata": {
    "scrolled": true
   },
   "outputs": [
    {
     "data": {
      "text/html": [
       "<span style=white-space:pre-wrap>'You will need  3  small bars'</span>"
      ],
      "text/latex": [
       "'You will need  3  small bars'"
      ],
      "text/markdown": [
       "<span style=white-space:pre-wrap>'You will need  3  small bars'</span>"
      ],
      "text/plain": [
       "[1] \"You will need  3  small bars\""
      ]
     },
     "metadata": {},
     "output_type": "display_data"
    }
   ],
   "source": [
    "total_bar(3)"
   ]
  },
  {
   "cell_type": "code",
   "execution_count": 89,
   "id": "c93c5165",
   "metadata": {},
   "outputs": [
    {
     "data": {
      "text/html": [
       "'you will need 1 big bars'"
      ],
      "text/latex": [
       "'you will need 1 big bars'"
      ],
      "text/markdown": [
       "'you will need 1 big bars'"
      ],
      "text/plain": [
       "[1] \"you will need 1 big bars\""
      ]
     },
     "metadata": {},
     "output_type": "display_data"
    }
   ],
   "source": [
    "total_bar(5)"
   ]
  },
  {
   "cell_type": "code",
   "execution_count": 90,
   "id": "5b697473",
   "metadata": {
    "scrolled": true
   },
   "outputs": [
    {
     "data": {
      "text/html": [
       "<span style=white-space:pre-wrap>'You will need  2  big bars and  2  small bars'</span>"
      ],
      "text/latex": [
       "'You will need  2  big bars and  2  small bars'"
      ],
      "text/markdown": [
       "<span style=white-space:pre-wrap>'You will need  2  big bars and  2  small bars'</span>"
      ],
      "text/plain": [
       "[1] \"You will need  2  big bars and  2  small bars\""
      ]
     },
     "metadata": {},
     "output_type": "display_data"
    }
   ],
   "source": [
    "total_bar(12)"
   ]
  },
  {
   "cell_type": "markdown",
   "id": "0439e79c",
   "metadata": {},
   "source": [
    "### Ex 5: Create a function that accepts 3 integer values and returns their sum. However, if an integer value is evenly divisible by 3, then it does not count towards the sum. Return zero if all numbers are evenly divisible by 3. Hint: You may want to use the append() function."
   ]
  },
  {
   "cell_type": "code",
   "execution_count": 111,
   "id": "a9e57243",
   "metadata": {},
   "outputs": [],
   "source": [
    "sum_numbers=function(x,y,z){\n",
    "    array_result=c()\n",
    "    if((x %% 3) != 0){\n",
    "        array_result=append(x,array_result)    \n",
    "    }\n",
    "    if((y %% 3) != 0){\n",
    "        array_result=append(y,array_result)    \n",
    "    }\n",
    "    if((z %% 3) != 0){\n",
    "        array_result=append(z,array_result)    \n",
    "    }\n",
    "    print(array_result)\n",
    "    return(sum(array_result))\n",
    "    \n",
    "}"
   ]
  },
  {
   "cell_type": "markdown",
   "id": "11579409",
   "metadata": {},
   "source": [
    "###### try:"
   ]
  },
  {
   "cell_type": "code",
   "execution_count": 112,
   "id": "de771b02",
   "metadata": {},
   "outputs": [
    {
     "name": "stdout",
     "output_type": "stream",
     "text": [
      "[1] 11\n"
     ]
    },
    {
     "data": {
      "text/html": [
       "11"
      ],
      "text/latex": [
       "11"
      ],
      "text/markdown": [
       "11"
      ],
      "text/plain": [
       "[1] 11"
      ]
     },
     "metadata": {},
     "output_type": "display_data"
    }
   ],
   "source": [
    "sum_numbers(11,12,15)"
   ]
  },
  {
   "cell_type": "code",
   "execution_count": 113,
   "id": "61f14774",
   "metadata": {
    "scrolled": true
   },
   "outputs": [
    {
     "name": "stdout",
     "output_type": "stream",
     "text": [
      "[1] 14\n"
     ]
    },
    {
     "data": {
      "text/html": [
       "14"
      ],
      "text/latex": [
       "14"
      ],
      "text/markdown": [
       "14"
      ],
      "text/plain": [
       "[1] 14"
      ]
     },
     "metadata": {},
     "output_type": "display_data"
    }
   ],
   "source": [
    "sum_numbers(12,14,15)"
   ]
  },
  {
   "cell_type": "code",
   "execution_count": 114,
   "id": "65866f81",
   "metadata": {
    "scrolled": true
   },
   "outputs": [
    {
     "name": "stdout",
     "output_type": "stream",
     "text": [
      "[1] 13 11\n"
     ]
    },
    {
     "data": {
      "text/html": [
       "24"
      ],
      "text/latex": [
       "24"
      ],
      "text/markdown": [
       "24"
      ],
      "text/plain": [
       "[1] 24"
      ]
     },
     "metadata": {},
     "output_type": "display_data"
    }
   ],
   "source": [
    "sum_numbers(11,13,15)"
   ]
  },
  {
   "cell_type": "code",
   "execution_count": 115,
   "id": "1b030d9a",
   "metadata": {
    "scrolled": true
   },
   "outputs": [
    {
     "name": "stdout",
     "output_type": "stream",
     "text": [
      "[1] 4 2\n"
     ]
    },
    {
     "data": {
      "text/html": [
       "6"
      ],
      "text/latex": [
       "6"
      ],
      "text/markdown": [
       "6"
      ],
      "text/plain": [
       "[1] 6"
      ]
     },
     "metadata": {},
     "output_type": "display_data"
    }
   ],
   "source": [
    "sum_numbers(2,3,4)"
   ]
  },
  {
   "cell_type": "markdown",
   "id": "9f013bee",
   "metadata": {},
   "source": [
    "### Ex 6: Create a function that will return TRUE if an input integer is prime. Otherwise, return FALSE. You may want to look into the any() function. There are many possible solutions to this problem."
   ]
  },
  {
   "cell_type": "code",
   "execution_count": 116,
   "id": "673ae3da",
   "metadata": {
    "scrolled": true
   },
   "outputs": [
    {
     "name": "stdout",
     "output_type": "stream",
     "text": [
      "Write a number: 3\n"
     ]
    }
   ],
   "source": [
    "int_val=as.integer(readline(\"Write a number: \"))"
   ]
  },
  {
   "cell_type": "code",
   "execution_count": 147,
   "id": "004ffd8a",
   "metadata": {
    "scrolled": true
   },
   "outputs": [],
   "source": [
    "prime_number=function(int_val){\n",
    "    if(int_val <= 1){\n",
    "        return (FALSE)\n",
    "    }else if(int_val <=3){\n",
    "        return (TRUE)\n",
    "    }else if(((int_val %% 2) == 0) || ((int_val %% 3) == 0) || ((int_val %% 5) == 0)){\n",
    "        return (FALSE)\n",
    "    }else{\n",
    "        return (TRUE)\n",
    "    }\n",
    "}"
   ]
  },
  {
   "cell_type": "markdown",
   "id": "32c49a71",
   "metadata": {},
   "source": [
    "#### Try:"
   ]
  },
  {
   "cell_type": "code",
   "execution_count": 148,
   "id": "a6fb5fb7",
   "metadata": {
    "scrolled": true
   },
   "outputs": [
    {
     "data": {
      "text/html": [
       "TRUE"
      ],
      "text/latex": [
       "TRUE"
      ],
      "text/markdown": [
       "TRUE"
      ],
      "text/plain": [
       "[1] TRUE"
      ]
     },
     "metadata": {},
     "output_type": "display_data"
    }
   ],
   "source": [
    "prime_number(int_val)"
   ]
  },
  {
   "cell_type": "code",
   "execution_count": 149,
   "id": "ce65bbdf",
   "metadata": {
    "scrolled": true
   },
   "outputs": [
    {
     "data": {
      "text/html": [
       "TRUE"
      ],
      "text/latex": [
       "TRUE"
      ],
      "text/markdown": [
       "TRUE"
      ],
      "text/plain": [
       "[1] TRUE"
      ]
     },
     "metadata": {},
     "output_type": "display_data"
    }
   ],
   "source": [
    "prime_number(2)"
   ]
  },
  {
   "cell_type": "code",
   "execution_count": 150,
   "id": "15959882",
   "metadata": {
    "scrolled": true
   },
   "outputs": [
    {
     "data": {
      "text/html": [
       "FALSE"
      ],
      "text/latex": [
       "FALSE"
      ],
      "text/markdown": [
       "FALSE"
      ],
      "text/plain": [
       "[1] FALSE"
      ]
     },
     "metadata": {},
     "output_type": "display_data"
    }
   ],
   "source": [
    "prime_number(96)"
   ]
  },
  {
   "cell_type": "code",
   "execution_count": 151,
   "id": "94c4a29b",
   "metadata": {
    "scrolled": true
   },
   "outputs": [
    {
     "data": {
      "text/html": [
       "FALSE"
      ],
      "text/latex": [
       "FALSE"
      ],
      "text/markdown": [
       "FALSE"
      ],
      "text/plain": [
       "[1] FALSE"
      ]
     },
     "metadata": {},
     "output_type": "display_data"
    }
   ],
   "source": [
    "prime_number(95)"
   ]
  },
  {
   "cell_type": "code",
   "execution_count": 152,
   "id": "a3df8a66",
   "metadata": {
    "scrolled": true
   },
   "outputs": [
    {
     "data": {
      "text/html": [
       "TRUE"
      ],
      "text/latex": [
       "TRUE"
      ],
      "text/markdown": [
       "TRUE"
      ],
      "text/plain": [
       "[1] TRUE"
      ]
     },
     "metadata": {},
     "output_type": "display_data"
    }
   ],
   "source": [
    "prime_number(97)"
   ]
  },
  {
   "cell_type": "code",
   "execution_count": 163,
   "id": "a1188e37",
   "metadata": {},
   "outputs": [
    {
     "data": {
      "text/html": [
       "FALSE"
      ],
      "text/latex": [
       "FALSE"
      ],
      "text/markdown": [
       "FALSE"
      ],
      "text/plain": [
       "[1] FALSE"
      ]
     },
     "metadata": {},
     "output_type": "display_data"
    }
   ],
   "source": [
    "prime_number(99)"
   ]
  }
 ],
 "metadata": {
  "kernelspec": {
   "display_name": "R",
   "language": "R",
   "name": "ir"
  },
  "language_info": {
   "codemirror_mode": "r",
   "file_extension": ".r",
   "mimetype": "text/x-r-source",
   "name": "R",
   "pygments_lexer": "r",
   "version": "3.6.1"
  }
 },
 "nbformat": 4,
 "nbformat_minor": 5
}
