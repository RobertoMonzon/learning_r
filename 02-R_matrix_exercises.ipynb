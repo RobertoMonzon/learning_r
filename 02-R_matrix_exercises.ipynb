{
 "cells": [
  {
   "cell_type": "markdown",
   "id": "5a19f39d",
   "metadata": {},
   "source": [
    "# R Matrix Exercises"
   ]
  },
  {
   "cell_type": "markdown",
   "id": "48afc2b6",
   "metadata": {},
   "source": [
    "Through these exercises we will review the matrix data structure and perhaps introduce you to a few ideas for you to discover on your own! Just answer the questions below written in bold:"
   ]
  },
  {
   "cell_type": "markdown",
   "id": "b9e6fa66",
   "metadata": {},
   "source": [
    "### Ex 1: Create 2 vectors A and B, where A is (1,2,3) and B is (4,5,6). With these vectors, use the cbind() or rbind() function to create a 2 by 3 matrix from the vectors. You'll need to figure out which of these binding functions is the correct choice."
   ]
  },
  {
   "cell_type": "markdown",
   "id": "d1f48c53",
   "metadata": {},
   "source": [
    "Output:\n",
    "<br>\n",
    "A  1  2\t3\n",
    "<br>\n",
    "B  4  5\t6\n"
   ]
  },
  {
   "cell_type": "code",
   "execution_count": 2,
   "id": "8a8b7982",
   "metadata": {},
   "outputs": [
    {
     "data": {
      "text/html": [
       "<ol class=list-inline>\n",
       "\t<li>1</li>\n",
       "\t<li>2</li>\n",
       "\t<li>3</li>\n",
       "</ol>\n"
      ],
      "text/latex": [
       "\\begin{enumerate*}\n",
       "\\item 1\n",
       "\\item 2\n",
       "\\item 3\n",
       "\\end{enumerate*}\n"
      ],
      "text/markdown": [
       "1. 1\n",
       "2. 2\n",
       "3. 3\n",
       "\n",
       "\n"
      ],
      "text/plain": [
       "[1] 1 2 3"
      ]
     },
     "metadata": {},
     "output_type": "display_data"
    }
   ],
   "source": [
    "vector_a=c(1,2,3)\n",
    "vector_a"
   ]
  },
  {
   "cell_type": "code",
   "execution_count": 3,
   "id": "a5bee3f8",
   "metadata": {
    "scrolled": true
   },
   "outputs": [
    {
     "data": {
      "text/html": [
       "<ol class=list-inline>\n",
       "\t<li>4</li>\n",
       "\t<li>5</li>\n",
       "\t<li>6</li>\n",
       "</ol>\n"
      ],
      "text/latex": [
       "\\begin{enumerate*}\n",
       "\\item 4\n",
       "\\item 5\n",
       "\\item 6\n",
       "\\end{enumerate*}\n"
      ],
      "text/markdown": [
       "1. 4\n",
       "2. 5\n",
       "3. 6\n",
       "\n",
       "\n"
      ],
      "text/plain": [
       "[1] 4 5 6"
      ]
     },
     "metadata": {},
     "output_type": "display_data"
    }
   ],
   "source": [
    "vector_b=c(4,5,6)\n",
    "vector_b"
   ]
  },
  {
   "cell_type": "code",
   "execution_count": 6,
   "id": "7eab7879",
   "metadata": {
    "scrolled": true
   },
   "outputs": [
    {
     "data": {
      "text/html": [
       "<table>\n",
       "<thead><tr><th scope=col>vector_a</th><th scope=col>vector_b</th></tr></thead>\n",
       "<tbody>\n",
       "\t<tr><td>1</td><td>4</td></tr>\n",
       "\t<tr><td>2</td><td>5</td></tr>\n",
       "\t<tr><td>3</td><td>6</td></tr>\n",
       "</tbody>\n",
       "</table>\n"
      ],
      "text/latex": [
       "\\begin{tabular}{ll}\n",
       " vector\\_a & vector\\_b\\\\\n",
       "\\hline\n",
       "\t 1 & 4\\\\\n",
       "\t 2 & 5\\\\\n",
       "\t 3 & 6\\\\\n",
       "\\end{tabular}\n"
      ],
      "text/markdown": [
       "\n",
       "| vector_a | vector_b |\n",
       "|---|---|\n",
       "| 1 | 4 |\n",
       "| 2 | 5 |\n",
       "| 3 | 6 |\n",
       "\n"
      ],
      "text/plain": [
       "     vector_a vector_b\n",
       "[1,] 1        4       \n",
       "[2,] 2        5       \n",
       "[3,] 3        6       "
      ]
     },
     "metadata": {},
     "output_type": "display_data"
    }
   ],
   "source": [
    "#vertical\n",
    "matrix_ab=cbind(vector_a,vector_b)\n",
    "matrix_ab"
   ]
  },
  {
   "cell_type": "code",
   "execution_count": 7,
   "id": "cf32dd04",
   "metadata": {
    "scrolled": true
   },
   "outputs": [
    {
     "data": {
      "text/html": [
       "<table>\n",
       "<tbody>\n",
       "\t<tr><th scope=row>vector_a</th><td>1</td><td>2</td><td>3</td></tr>\n",
       "\t<tr><th scope=row>vector_b</th><td>4</td><td>5</td><td>6</td></tr>\n",
       "</tbody>\n",
       "</table>\n"
      ],
      "text/latex": [
       "\\begin{tabular}{r|lll}\n",
       "\tvector\\_a & 1 & 2 & 3\\\\\n",
       "\tvector\\_b & 4 & 5 & 6\\\\\n",
       "\\end{tabular}\n"
      ],
      "text/markdown": [
       "\n",
       "| vector_a | 1 | 2 | 3 |\n",
       "| vector_b | 4 | 5 | 6 |\n",
       "\n"
      ],
      "text/plain": [
       "         [,1] [,2] [,3]\n",
       "vector_a 1    2    3   \n",
       "vector_b 4    5    6   "
      ]
     },
     "metadata": {},
     "output_type": "display_data"
    }
   ],
   "source": [
    "#horizontal\n",
    "matrix_ba=rbind(vector_a,vector_b)\n",
    "matrix_ba"
   ]
  },
  {
   "cell_type": "markdown",
   "id": "b1498b97",
   "metadata": {},
   "source": [
    "### Ex 2: Create a 3 by 3 matrix consisting of the numbers 1-9. Create this matrix using the shortcut 1:9 and by specifying the nrow argument in the matrix() function call. Assign this matrix to the variable mat"
   ]
  },
  {
   "cell_type": "code",
   "execution_count": 25,
   "id": "2a182448",
   "metadata": {
    "scrolled": true
   },
   "outputs": [
    {
     "data": {
      "text/html": [
       "<table>\n",
       "<tbody>\n",
       "\t<tr><td>1</td><td>2</td><td>3</td></tr>\n",
       "\t<tr><td>4</td><td>5</td><td>6</td></tr>\n",
       "\t<tr><td>7</td><td>8</td><td>9</td></tr>\n",
       "</tbody>\n",
       "</table>\n"
      ],
      "text/latex": [
       "\\begin{tabular}{lll}\n",
       "\t 1 & 2 & 3\\\\\n",
       "\t 4 & 5 & 6\\\\\n",
       "\t 7 & 8 & 9\\\\\n",
       "\\end{tabular}\n"
      ],
      "text/markdown": [
       "\n",
       "| 1 | 2 | 3 |\n",
       "| 4 | 5 | 6 |\n",
       "| 7 | 8 | 9 |\n",
       "\n"
      ],
      "text/plain": [
       "     [,1] [,2] [,3]\n",
       "[1,] 1    2    3   \n",
       "[2,] 4    5    6   \n",
       "[3,] 7    8    9   "
      ]
     },
     "metadata": {},
     "output_type": "display_data"
    }
   ],
   "source": [
    "mat=matrix(1:9, byrow=T,nrow=3)\n",
    "mat"
   ]
  },
  {
   "cell_type": "markdown",
   "id": "64557664",
   "metadata": {},
   "source": [
    "### Ex 3: Confirm that mat is a matrix using is.matrix()"
   ]
  },
  {
   "cell_type": "code",
   "execution_count": 26,
   "id": "f2b2e183",
   "metadata": {
    "scrolled": true
   },
   "outputs": [
    {
     "data": {
      "text/html": [
       "TRUE"
      ],
      "text/latex": [
       "TRUE"
      ],
      "text/markdown": [
       "TRUE"
      ],
      "text/plain": [
       "[1] TRUE"
      ]
     },
     "metadata": {},
     "output_type": "display_data"
    }
   ],
   "source": [
    "is.matrix(mat)"
   ]
  },
  {
   "cell_type": "markdown",
   "id": "b4f8a48f",
   "metadata": {},
   "source": [
    "### Ex 4: Create a 5 by 5 matrix consisting of the numbers 1-25 and assign it to the variable mat2. The top row should be the numbers 1-5."
   ]
  },
  {
   "cell_type": "code",
   "execution_count": 23,
   "id": "d5190db2",
   "metadata": {
    "scrolled": true
   },
   "outputs": [
    {
     "data": {
      "text/html": [
       "<table>\n",
       "<tbody>\n",
       "\t<tr><td> 1</td><td> 2</td><td> 3</td><td> 4</td><td> 5</td></tr>\n",
       "\t<tr><td> 6</td><td> 7</td><td> 8</td><td> 9</td><td>10</td></tr>\n",
       "\t<tr><td>11</td><td>12</td><td>13</td><td>14</td><td>15</td></tr>\n",
       "\t<tr><td>16</td><td>17</td><td>18</td><td>19</td><td>20</td></tr>\n",
       "\t<tr><td>21</td><td>22</td><td>23</td><td>24</td><td>25</td></tr>\n",
       "</tbody>\n",
       "</table>\n"
      ],
      "text/latex": [
       "\\begin{tabular}{lllll}\n",
       "\t  1 &  2 &  3 &  4 &  5\\\\\n",
       "\t  6 &  7 &  8 &  9 & 10\\\\\n",
       "\t 11 & 12 & 13 & 14 & 15\\\\\n",
       "\t 16 & 17 & 18 & 19 & 20\\\\\n",
       "\t 21 & 22 & 23 & 24 & 25\\\\\n",
       "\\end{tabular}\n"
      ],
      "text/markdown": [
       "\n",
       "|  1 |  2 |  3 |  4 |  5 |\n",
       "|  6 |  7 |  8 |  9 | 10 |\n",
       "| 11 | 12 | 13 | 14 | 15 |\n",
       "| 16 | 17 | 18 | 19 | 20 |\n",
       "| 21 | 22 | 23 | 24 | 25 |\n",
       "\n"
      ],
      "text/plain": [
       "     [,1] [,2] [,3] [,4] [,5]\n",
       "[1,]  1    2    3    4    5  \n",
       "[2,]  6    7    8    9   10  \n",
       "[3,] 11   12   13   14   15  \n",
       "[4,] 16   17   18   19   20  \n",
       "[5,] 21   22   23   24   25  "
      ]
     },
     "metadata": {},
     "output_type": "display_data"
    }
   ],
   "source": [
    "mat2=matrix(1:25,byrow=T,nrow=5)\n",
    "mat2"
   ]
  },
  {
   "cell_type": "markdown",
   "id": "f809715e",
   "metadata": {},
   "source": [
    "### Ex 5: Using indexing notation, grab a sub-section of mat2 from the previous exercise that looks like this:"
   ]
  },
  {
   "cell_type": "markdown",
   "id": "2748b4ca",
   "metadata": {},
   "source": [
    " [7,8]\n",
    " <br>\n",
    " [12,13]"
   ]
  },
  {
   "cell_type": "code",
   "execution_count": 31,
   "id": "8ab48747",
   "metadata": {
    "scrolled": true
   },
   "outputs": [
    {
     "data": {
      "text/html": [
       "<table>\n",
       "<tbody>\n",
       "\t<tr><td> 7</td><td> 8</td></tr>\n",
       "\t<tr><td>12</td><td>13</td></tr>\n",
       "</tbody>\n",
       "</table>\n"
      ],
      "text/latex": [
       "\\begin{tabular}{ll}\n",
       "\t  7 &  8\\\\\n",
       "\t 12 & 13\\\\\n",
       "\\end{tabular}\n"
      ],
      "text/markdown": [
       "\n",
       "|  7 |  8 |\n",
       "| 12 | 13 |\n",
       "\n"
      ],
      "text/plain": [
       "     [,1] [,2]\n",
       "[1,]  7    8  \n",
       "[2,] 12   13  "
      ]
     },
     "metadata": {},
     "output_type": "display_data"
    }
   ],
   "source": [
    "mat2[2:3,2:3]"
   ]
  },
  {
   "cell_type": "markdown",
   "id": "1abf4766",
   "metadata": {},
   "source": [
    "### Ex 6: Using indexing notation, grab a sub-section of mat2 from the previous exercise that looks like this:"
   ]
  },
  {
   "cell_type": "markdown",
   "id": "d9930e83",
   "metadata": {},
   "source": [
    "[19,20]\n",
    "<br>\n",
    "[24,25]"
   ]
  },
  {
   "cell_type": "code",
   "execution_count": 35,
   "id": "b797f8ba",
   "metadata": {
    "scrolled": true
   },
   "outputs": [
    {
     "data": {
      "text/html": [
       "<table>\n",
       "<tbody>\n",
       "\t<tr><td>19</td><td>20</td></tr>\n",
       "\t<tr><td>24</td><td>25</td></tr>\n",
       "</tbody>\n",
       "</table>\n"
      ],
      "text/latex": [
       "\\begin{tabular}{ll}\n",
       "\t 19 & 20\\\\\n",
       "\t 24 & 25\\\\\n",
       "\\end{tabular}\n"
      ],
      "text/markdown": [
       "\n",
       "| 19 | 20 |\n",
       "| 24 | 25 |\n",
       "\n"
      ],
      "text/plain": [
       "     [,1] [,2]\n",
       "[1,] 19   20  \n",
       "[2,] 24   25  "
      ]
     },
     "metadata": {},
     "output_type": "display_data"
    }
   ],
   "source": [
    "mat2[4:5,4:5]"
   ]
  },
  {
   "cell_type": "markdown",
   "id": "e20770f4",
   "metadata": {},
   "source": [
    "### Ex 7: What is the sum of all the elements in mat2?"
   ]
  },
  {
   "cell_type": "code",
   "execution_count": 36,
   "id": "c0e37155",
   "metadata": {},
   "outputs": [
    {
     "data": {
      "text/html": [
       "325"
      ],
      "text/latex": [
       "325"
      ],
      "text/markdown": [
       "325"
      ],
      "text/plain": [
       "[1] 325"
      ]
     },
     "metadata": {},
     "output_type": "display_data"
    }
   ],
   "source": [
    "sum(mat2)"
   ]
  },
  {
   "cell_type": "markdown",
   "id": "9257d3e3",
   "metadata": {},
   "source": [
    "### Ex 8: Ok time for our last exercise! Find out how to use runif() to create a 4 by 5 matrix consisting of 20 random numbers (4*5=20)."
   ]
  },
  {
   "cell_type": "code",
   "execution_count": 45,
   "id": "d42106ed",
   "metadata": {
    "scrolled": true
   },
   "outputs": [
    {
     "data": {
      "text/html": [
       "<table>\n",
       "<tbody>\n",
       "\t<tr><td>22</td><td>10</td><td>68</td><td>31</td></tr>\n",
       "\t<tr><td>77</td><td>93</td><td> 7</td><td>56</td></tr>\n",
       "\t<tr><td>94</td><td>10</td><td>84</td><td> 3</td></tr>\n",
       "\t<tr><td>79</td><td>37</td><td>87</td><td>30</td></tr>\n",
       "\t<tr><td>89</td><td> 8</td><td>15</td><td>49</td></tr>\n",
       "</tbody>\n",
       "</table>\n"
      ],
      "text/latex": [
       "\\begin{tabular}{llll}\n",
       "\t 22 & 10 & 68 & 31\\\\\n",
       "\t 77 & 93 &  7 & 56\\\\\n",
       "\t 94 & 10 & 84 &  3\\\\\n",
       "\t 79 & 37 & 87 & 30\\\\\n",
       "\t 89 &  8 & 15 & 49\\\\\n",
       "\\end{tabular}\n"
      ],
      "text/markdown": [
       "\n",
       "| 22 | 10 | 68 | 31 |\n",
       "| 77 | 93 |  7 | 56 |\n",
       "| 94 | 10 | 84 |  3 |\n",
       "| 79 | 37 | 87 | 30 |\n",
       "| 89 |  8 | 15 | 49 |\n",
       "\n"
      ],
      "text/plain": [
       "     [,1] [,2] [,3] [,4]\n",
       "[1,] 22   10   68   31  \n",
       "[2,] 77   93    7   56  \n",
       "[3,] 94   10   84    3  \n",
       "[4,] 79   37   87   30  \n",
       "[5,] 89    8   15   49  "
      ]
     },
     "metadata": {},
     "output_type": "display_data"
    }
   ],
   "source": [
    "mat3=matrix(round(runif(20, min= 1, max=100)),nrow=5)\n",
    "mat3"
   ]
  },
  {
   "cell_type": "code",
   "execution_count": 46,
   "id": "a34cae22",
   "metadata": {},
   "outputs": [
    {
     "data": {
      "text/html": [
       "<table>\n",
       "<tbody>\n",
       "\t<tr><td>14</td><td>53</td><td>62</td><td>84</td><td>94</td></tr>\n",
       "\t<tr><td>15</td><td>42</td><td>99</td><td>28</td><td>90</td></tr>\n",
       "\t<tr><td>39</td><td>99</td><td>30</td><td>46</td><td>96</td></tr>\n",
       "\t<tr><td>71</td><td>98</td><td>47</td><td>10</td><td>83</td></tr>\n",
       "</tbody>\n",
       "</table>\n"
      ],
      "text/latex": [
       "\\begin{tabular}{lllll}\n",
       "\t 14 & 53 & 62 & 84 & 94\\\\\n",
       "\t 15 & 42 & 99 & 28 & 90\\\\\n",
       "\t 39 & 99 & 30 & 46 & 96\\\\\n",
       "\t 71 & 98 & 47 & 10 & 83\\\\\n",
       "\\end{tabular}\n"
      ],
      "text/markdown": [
       "\n",
       "| 14 | 53 | 62 | 84 | 94 |\n",
       "| 15 | 42 | 99 | 28 | 90 |\n",
       "| 39 | 99 | 30 | 46 | 96 |\n",
       "| 71 | 98 | 47 | 10 | 83 |\n",
       "\n"
      ],
      "text/plain": [
       "     [,1] [,2] [,3] [,4] [,5]\n",
       "[1,] 14   53   62   84   94  \n",
       "[2,] 15   42   99   28   90  \n",
       "[3,] 39   99   30   46   96  \n",
       "[4,] 71   98   47   10   83  "
      ]
     },
     "metadata": {},
     "output_type": "display_data"
    }
   ],
   "source": [
    "mat3=matrix(round(runif(20, min= 1, max=100)),nrow=4)\n",
    "mat3"
   ]
  }
 ],
 "metadata": {
  "kernelspec": {
   "display_name": "R",
   "language": "R",
   "name": "ir"
  },
  "language_info": {
   "codemirror_mode": "r",
   "file_extension": ".r",
   "mimetype": "text/x-r-source",
   "name": "R",
   "pygments_lexer": "r",
   "version": "3.6.1"
  }
 },
 "nbformat": 4,
 "nbformat_minor": 5
}
