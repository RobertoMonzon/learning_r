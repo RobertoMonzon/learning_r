{
 "cells": [
  {
   "cell_type": "markdown",
   "id": "d8e45a51",
   "metadata": {},
   "source": [
    "### Conditional Statements Exercises"
   ]
  },
  {
   "cell_type": "markdown",
   "id": "3e4ebb79",
   "metadata": {},
   "source": [
    "For these exercises, use what you have learned about if,else if, and else statements to answer the questions! The first exercise is done for you as an example:"
   ]
  },
  {
   "cell_type": "markdown",
   "id": "f33df9cd",
   "metadata": {},
   "source": [
    "### Example: Write a script that prints \"Hello\" if the variable x is equal to 1:"
   ]
  },
  {
   "cell_type": "code",
   "execution_count": 3,
   "id": "0cc1ccff",
   "metadata": {
    "scrolled": true
   },
   "outputs": [
    {
     "name": "stdout",
     "output_type": "stream",
     "text": [
      "Write a number: 1\n",
      "[1] \"Hello\"\n"
     ]
    }
   ],
   "source": [
    "x=readline(\"Write a number: \")\n",
    "if (x == 1){\n",
    "    print(\"Hello\")\n",
    "}else{\n",
    "    print(\"wrong answer\")\n",
    "}"
   ]
  },
  {
   "cell_type": "markdown",
   "id": "a0a4aa7e",
   "metadata": {},
   "source": [
    "### Ex 1: Write a script that will print \"Even Number\" if the variable x is an even number, otherwise print \"Not Even\":"
   ]
  },
  {
   "cell_type": "code",
   "execution_count": 10,
   "id": "46c86751",
   "metadata": {
    "scrolled": true
   },
   "outputs": [
    {
     "name": "stdout",
     "output_type": "stream",
     "text": [
      "Write a number: 2\n",
      "[1] \"X is an even number \"\n"
     ]
    }
   ],
   "source": [
    "x=as.integer(readline(\"Write a number: \"))\n",
    "if ((x %% 2) == 0){\n",
    "    print(\"X is an even number \")\n",
    "}else{\n",
    "    print(\"X is not an even number\")\n",
    "}"
   ]
  },
  {
   "cell_type": "markdown",
   "id": "cdb12c52",
   "metadata": {},
   "source": [
    "### Ex 2: Write a script that will print 'Is a Matrix' if the variable x is a matrix, otherwise print \"Not a Matrix\". Hint: You may want to check out help(is.matrix)"
   ]
  },
  {
   "cell_type": "code",
   "execution_count": 13,
   "id": "48d8bf19",
   "metadata": {
    "scrolled": true
   },
   "outputs": [
    {
     "data": {
      "text/html": [
       "<table>\n",
       "<tbody>\n",
       "\t<tr><td>1 </td><td>5 </td><td> 9</td><td>13</td><td>17</td></tr>\n",
       "\t<tr><td>2 </td><td>6 </td><td>10</td><td>14</td><td>18</td></tr>\n",
       "\t<tr><td>3 </td><td>7 </td><td>11</td><td>15</td><td>19</td></tr>\n",
       "\t<tr><td>4 </td><td>8 </td><td>12</td><td>16</td><td>20</td></tr>\n",
       "</tbody>\n",
       "</table>\n"
      ],
      "text/latex": [
       "\\begin{tabular}{lllll}\n",
       "\t 1  & 5  &  9 & 13 & 17\\\\\n",
       "\t 2  & 6  & 10 & 14 & 18\\\\\n",
       "\t 3  & 7  & 11 & 15 & 19\\\\\n",
       "\t 4  & 8  & 12 & 16 & 20\\\\\n",
       "\\end{tabular}\n"
      ],
      "text/markdown": [
       "\n",
       "| 1  | 5  |  9 | 13 | 17 |\n",
       "| 2  | 6  | 10 | 14 | 18 |\n",
       "| 3  | 7  | 11 | 15 | 19 |\n",
       "| 4  | 8  | 12 | 16 | 20 |\n",
       "\n"
      ],
      "text/plain": [
       "     [,1] [,2] [,3] [,4] [,5]\n",
       "[1,] 1    5     9   13   17  \n",
       "[2,] 2    6    10   14   18  \n",
       "[3,] 3    7    11   15   19  \n",
       "[4,] 4    8    12   16   20  "
      ]
     },
     "metadata": {},
     "output_type": "display_data"
    },
    {
     "name": "stdout",
     "output_type": "stream",
     "text": [
      "[1] \"is a matrix\"\n"
     ]
    }
   ],
   "source": [
    "x=matrix(1:20,nrow=4)\n",
    "x\n",
    "if (is.matrix(x)==T){\n",
    "    print(\"is a matrix\")\n",
    "}else{\n",
    "    print(\"is not a matrix\")\n",
    "}"
   ]
  },
  {
   "cell_type": "markdown",
   "id": "d89ba9e6",
   "metadata": {},
   "source": [
    "### Ex 3: Create a script that given a numeric vector x with a length 3, will print out the elements in order from high to low. You must use if,else if, and else statements for your logic. (This code will be relatively long)"
   ]
  },
  {
   "cell_type": "code",
   "execution_count": 24,
   "id": "a3720e6f",
   "metadata": {},
   "outputs": [
    {
     "name": "stdout",
     "output_type": "stream",
     "text": [
      "[1] \"26 18 4\"\n"
     ]
    }
   ],
   "source": [
    "x=c(18,26,4)\n",
    "\n",
    "if((x[1] > x[2]) & (x[2] > x[3])){\n",
    "    el_1=x[1]\n",
    "    el_2=x[2]\n",
    "    el_3=x[3]\n",
    "}else if ((x[1] > x[3]) & (x[3] > x[2])){\n",
    "    el_1=x[1]\n",
    "    el_2=x[3]\n",
    "    el_3=x[2]\n",
    "}else if ((x[3] >x[1]) & (x[1]> x[2])){\n",
    "    el_1=x[3]\n",
    "    el_2=x[1]\n",
    "    el_3=x[2]\n",
    "}else if ((x[3] >x[2]) & (x[2]> x[1])){\n",
    "    el_1=x[3]\n",
    "    el_2=x[2]\n",
    "    el_3=x[1]\n",
    "}else if ((x[2] >x[1]) & (x[1]> x[3])){\n",
    "    el_1=x[2]\n",
    "    el_2=x[1]\n",
    "    el_3=x[3]\n",
    "}else{\n",
    "    el_1=x[2]\n",
    "    el_2=x[3]\n",
    "    el_3=x[1]\n",
    "}\n",
    "\n",
    "print(paste(el_1, el_2, el_3))"
   ]
  },
  {
   "cell_type": "markdown",
   "id": "6914a68d",
   "metadata": {},
   "source": [
    "### Ex 4: Write a script that uses if,else if, and else statements to print the max element in a numeric vector with 3 elements."
   ]
  },
  {
   "cell_type": "code",
   "execution_count": 26,
   "id": "8e77a1f0",
   "metadata": {},
   "outputs": [
    {
     "name": "stdout",
     "output_type": "stream",
     "text": [
      "[1] 28\n"
     ]
    }
   ],
   "source": [
    "x=c(28,26,24)\n",
    "\n",
    "if((x[1] > x[2]) & (x[2] > x[3])){\n",
    "   print(x[1])\n",
    "}else if ((x[1] > x[3]) & (x[3] > x[2])){\n",
    "    print(x[1])\n",
    "}else if ((x[3] >x[1]) & (x[1]> x[2])){\n",
    "    print(x[3])\n",
    "}else if ((x[3] >x[2]) & (x[2]> x[1])){\n",
    "    print(x[3])\n",
    "}else if ((x[2] >x[1]) & (x[1]> x[3])){\n",
    "    print(x[2])\n",
    "}else{\n",
    "    print(x[2])\n",
    "}"
   ]
  }
 ],
 "metadata": {
  "kernelspec": {
   "display_name": "R",
   "language": "R",
   "name": "ir"
  },
  "language_info": {
   "codemirror_mode": "r",
   "file_extension": ".r",
   "mimetype": "text/x-r-source",
   "name": "R",
   "pygments_lexer": "r",
   "version": "3.6.1"
  }
 },
 "nbformat": 4,
 "nbformat_minor": 5
}
