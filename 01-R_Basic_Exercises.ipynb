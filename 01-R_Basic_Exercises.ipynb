{
 "cells": [
  {
   "cell_type": "markdown",
   "id": "2f7319fd",
   "metadata": {},
   "source": [
    "# R Basics Exercise"
   ]
  },
  {
   "cell_type": "markdown",
   "id": "4ca4ef4c",
   "metadata": {},
   "source": [
    "We will test you on a few topics:\n",
    "\n",
    "* Basic Data Types\n",
    "* Basic Arithmetic\n",
    "* Vector\n",
    "* Vector Operations\n",
    "* Comparison operators\n",
    "* Vector Selection and Indexing\n",
    "\n",
    "The exercises below should be straightforward if you've reviewed the lecture, don't expect something very challenging yet, this is more of a review to make sure you've understood everything so far! Later on exercises/projects will be more challenging (and a lot more fun!)"
   ]
  },
  {
   "cell_type": "markdown",
   "id": "122e7593",
   "metadata": {},
   "source": [
    "## Solve the following problems using R"
   ]
  },
  {
   "cell_type": "markdown",
   "id": "210ba02c",
   "metadata": {},
   "source": [
    "### What is two to the power of five?"
   ]
  },
  {
   "cell_type": "code",
   "execution_count": 2,
   "id": "51b5a16d",
   "metadata": {},
   "outputs": [
    {
     "data": {
      "text/html": [
       "32"
      ],
      "text/latex": [
       "32"
      ],
      "text/markdown": [
       "32"
      ],
      "text/plain": [
       "[1] 32"
      ]
     },
     "metadata": {},
     "output_type": "display_data"
    }
   ],
   "source": [
    "2**5"
   ]
  },
  {
   "cell_type": "code",
   "execution_count": 3,
   "id": "ab590cda",
   "metadata": {},
   "outputs": [
    {
     "data": {
      "text/html": [
       "32"
      ],
      "text/latex": [
       "32"
      ],
      "text/markdown": [
       "32"
      ],
      "text/plain": [
       "[1] 32"
      ]
     },
     "metadata": {},
     "output_type": "display_data"
    }
   ],
   "source": [
    "2^5"
   ]
  },
  {
   "cell_type": "markdown",
   "id": "b3360494",
   "metadata": {},
   "source": [
    "### Create a vector called stock.prices with the following data points: 23,27,23,21,34"
   ]
  },
  {
   "cell_type": "code",
   "execution_count": 5,
   "id": "df041440",
   "metadata": {
    "scrolled": true
   },
   "outputs": [
    {
     "data": {
      "text/html": [
       "<ol class=list-inline>\n",
       "\t<li>23</li>\n",
       "\t<li>27</li>\n",
       "\t<li>23</li>\n",
       "\t<li>21</li>\n",
       "\t<li>34</li>\n",
       "</ol>\n"
      ],
      "text/latex": [
       "\\begin{enumerate*}\n",
       "\\item 23\n",
       "\\item 27\n",
       "\\item 23\n",
       "\\item 21\n",
       "\\item 34\n",
       "\\end{enumerate*}\n"
      ],
      "text/markdown": [
       "1. 23\n",
       "2. 27\n",
       "3. 23\n",
       "4. 21\n",
       "5. 34\n",
       "\n",
       "\n"
      ],
      "text/plain": [
       "[1] 23 27 23 21 34"
      ]
     },
     "metadata": {},
     "output_type": "display_data"
    }
   ],
   "source": [
    "stock.prices=c(23,27,23,21,34)\n",
    "stock.prices"
   ]
  },
  {
   "cell_type": "code",
   "execution_count": 7,
   "id": "21c8fa44",
   "metadata": {
    "scrolled": true
   },
   "outputs": [
    {
     "data": {
      "text/html": [
       "<ol class=list-inline>\n",
       "\t<li>23</li>\n",
       "\t<li>27</li>\n",
       "\t<li>23</li>\n",
       "\t<li>21</li>\n",
       "\t<li>34</li>\n",
       "</ol>\n"
      ],
      "text/latex": [
       "\\begin{enumerate*}\n",
       "\\item 23\n",
       "\\item 27\n",
       "\\item 23\n",
       "\\item 21\n",
       "\\item 34\n",
       "\\end{enumerate*}\n"
      ],
      "text/markdown": [
       "1. 23\n",
       "2. 27\n",
       "3. 23\n",
       "4. 21\n",
       "5. 34\n",
       "\n",
       "\n"
      ],
      "text/plain": [
       "[1] 23 27 23 21 34"
      ]
     },
     "metadata": {},
     "output_type": "display_data"
    }
   ],
   "source": [
    "stock.prices <- c(23,27,23,21,34)\n",
    "stock.prices"
   ]
  },
  {
   "cell_type": "markdown",
   "id": "7a28b0b3",
   "metadata": {},
   "source": [
    "### Assign names to the price data points relating to the day of the week, starting with Mon, Tue, Wed, etc..."
   ]
  },
  {
   "cell_type": "code",
   "execution_count": 42,
   "id": "26f0c659",
   "metadata": {},
   "outputs": [
    {
     "data": {
      "text/html": [
       "<ol class=list-inline>\n",
       "\t<li>23</li>\n",
       "\t<li>27</li>\n",
       "\t<li>23</li>\n",
       "\t<li>21</li>\n",
       "\t<li>34</li>\n",
       "</ol>\n"
      ],
      "text/latex": [
       "\\begin{enumerate*}\n",
       "\\item 23\n",
       "\\item 27\n",
       "\\item 23\n",
       "\\item 21\n",
       "\\item 34\n",
       "\\end{enumerate*}\n"
      ],
      "text/markdown": [
       "1. 23\n",
       "2. 27\n",
       "3. 23\n",
       "4. 21\n",
       "5. 34\n",
       "\n",
       "\n"
      ],
      "text/plain": [
       "[1] 23 27 23 21 34"
      ]
     },
     "metadata": {},
     "output_type": "display_data"
    },
    {
     "data": {
      "text/html": [
       "<ol class=list-inline>\n",
       "\t<li>'Mon'</li>\n",
       "\t<li>'Tue'</li>\n",
       "\t<li>'Wed'</li>\n",
       "\t<li>'Thu'</li>\n",
       "\t<li>'Fri'</li>\n",
       "</ol>\n"
      ],
      "text/latex": [
       "\\begin{enumerate*}\n",
       "\\item 'Mon'\n",
       "\\item 'Tue'\n",
       "\\item 'Wed'\n",
       "\\item 'Thu'\n",
       "\\item 'Fri'\n",
       "\\end{enumerate*}\n"
      ],
      "text/markdown": [
       "1. 'Mon'\n",
       "2. 'Tue'\n",
       "3. 'Wed'\n",
       "4. 'Thu'\n",
       "5. 'Fri'\n",
       "\n",
       "\n"
      ],
      "text/plain": [
       "[1] \"Mon\" \"Tue\" \"Wed\" \"Thu\" \"Fri\""
      ]
     },
     "metadata": {},
     "output_type": "display_data"
    },
    {
     "data": {
      "text/html": [
       "<dl class=dl-horizontal>\n",
       "\t<dt>Mon</dt>\n",
       "\t\t<dd>23</dd>\n",
       "\t<dt>Tue</dt>\n",
       "\t\t<dd>27</dd>\n",
       "\t<dt>Wed</dt>\n",
       "\t\t<dd>23</dd>\n",
       "\t<dt>Thu</dt>\n",
       "\t\t<dd>21</dd>\n",
       "\t<dt>Fri</dt>\n",
       "\t\t<dd>34</dd>\n",
       "</dl>\n"
      ],
      "text/latex": [
       "\\begin{description*}\n",
       "\\item[Mon] 23\n",
       "\\item[Tue] 27\n",
       "\\item[Wed] 23\n",
       "\\item[Thu] 21\n",
       "\\item[Fri] 34\n",
       "\\end{description*}\n"
      ],
      "text/markdown": [
       "Mon\n",
       ":   23Tue\n",
       ":   27Wed\n",
       ":   23Thu\n",
       ":   21Fri\n",
       ":   34\n",
       "\n"
      ],
      "text/plain": [
       "Mon Tue Wed Thu Fri \n",
       " 23  27  23  21  34 "
      ]
     },
     "metadata": {},
     "output_type": "display_data"
    }
   ],
   "source": [
    "stock_prices<-c(23,27,23,21,34)\n",
    "stock_prices\n",
    "days<-c(\"Mon\",\"Tue\",\"Wed\",\"Thu\",\"Fri\")\n",
    "days\n",
    "names(stock_prices)<-days\n",
    "stock_prices\n"
   ]
  },
  {
   "cell_type": "markdown",
   "id": "a07220b6",
   "metadata": {},
   "source": [
    "### What was the average (mean) stock price for the week? (You may need to reference a built-in function)"
   ]
  },
  {
   "cell_type": "code",
   "execution_count": 45,
   "id": "e930f09b",
   "metadata": {},
   "outputs": [
    {
     "data": {
      "text/html": [
       "25.6"
      ],
      "text/latex": [
       "25.6"
      ],
      "text/markdown": [
       "25.6"
      ],
      "text/plain": [
       "[1] 25.6"
      ]
     },
     "metadata": {},
     "output_type": "display_data"
    }
   ],
   "source": [
    "mean(stock_prices)"
   ]
  },
  {
   "cell_type": "markdown",
   "id": "be7ac1b8",
   "metadata": {},
   "source": [
    "### Create a vector called over.23 consisting of logicals that correspond to the days where the stock price was more than $23"
   ]
  },
  {
   "cell_type": "code",
   "execution_count": 44,
   "id": "a1e260ed",
   "metadata": {},
   "outputs": [
    {
     "data": {
      "text/html": [
       "<dl class=dl-horizontal>\n",
       "\t<dt>Mon</dt>\n",
       "\t\t<dd>FALSE</dd>\n",
       "\t<dt>Tue</dt>\n",
       "\t\t<dd>TRUE</dd>\n",
       "\t<dt>Wed</dt>\n",
       "\t\t<dd>FALSE</dd>\n",
       "\t<dt>Thu</dt>\n",
       "\t\t<dd>FALSE</dd>\n",
       "\t<dt>Fri</dt>\n",
       "\t\t<dd>TRUE</dd>\n",
       "</dl>\n"
      ],
      "text/latex": [
       "\\begin{description*}\n",
       "\\item[Mon] FALSE\n",
       "\\item[Tue] TRUE\n",
       "\\item[Wed] FALSE\n",
       "\\item[Thu] FALSE\n",
       "\\item[Fri] TRUE\n",
       "\\end{description*}\n"
      ],
      "text/markdown": [
       "Mon\n",
       ":   FALSETue\n",
       ":   TRUEWed\n",
       ":   FALSEThu\n",
       ":   FALSEFri\n",
       ":   TRUE\n",
       "\n"
      ],
      "text/plain": [
       "  Mon   Tue   Wed   Thu   Fri \n",
       "FALSE  TRUE FALSE FALSE  TRUE "
      ]
     },
     "metadata": {},
     "output_type": "display_data"
    }
   ],
   "source": [
    "over_23=(stock_prices > 23)\n",
    "over_23"
   ]
  },
  {
   "cell_type": "code",
   "execution_count": 48,
   "id": "dba1e2f2",
   "metadata": {},
   "outputs": [
    {
     "data": {
      "text/html": [
       "<ol class=list-inline>\n",
       "\t<li>FALSE</li>\n",
       "\t<li>TRUE</li>\n",
       "\t<li>FALSE</li>\n",
       "\t<li>FALSE</li>\n",
       "\t<li>TRUE</li>\n",
       "</ol>\n"
      ],
      "text/latex": [
       "\\begin{enumerate*}\n",
       "\\item FALSE\n",
       "\\item TRUE\n",
       "\\item FALSE\n",
       "\\item FALSE\n",
       "\\item TRUE\n",
       "\\end{enumerate*}\n"
      ],
      "text/markdown": [
       "1. FALSE\n",
       "2. TRUE\n",
       "3. FALSE\n",
       "4. FALSE\n",
       "5. TRUE\n",
       "\n",
       "\n"
      ],
      "text/plain": [
       "[1] FALSE  TRUE FALSE FALSE  TRUE"
      ]
     },
     "metadata": {},
     "output_type": "display_data"
    }
   ],
   "source": [
    "over.23 <- stock.prices>23\n",
    "over.23"
   ]
  },
  {
   "cell_type": "markdown",
   "id": "efd7b3e7",
   "metadata": {},
   "source": [
    "### Use the over.23 vector to filter out the stock.prices vector and only return the day and prices where the price was over $23"
   ]
  },
  {
   "cell_type": "code",
   "execution_count": 46,
   "id": "ad87114b",
   "metadata": {
    "scrolled": true
   },
   "outputs": [
    {
     "data": {
      "text/html": [
       "<dl class=dl-horizontal>\n",
       "\t<dt>Tue</dt>\n",
       "\t\t<dd>27</dd>\n",
       "\t<dt>Fri</dt>\n",
       "\t\t<dd>34</dd>\n",
       "</dl>\n"
      ],
      "text/latex": [
       "\\begin{description*}\n",
       "\\item[Tue] 27\n",
       "\\item[Fri] 34\n",
       "\\end{description*}\n"
      ],
      "text/markdown": [
       "Tue\n",
       ":   27Fri\n",
       ":   34\n",
       "\n"
      ],
      "text/plain": [
       "Tue Fri \n",
       " 27  34 "
      ]
     },
     "metadata": {},
     "output_type": "display_data"
    }
   ],
   "source": [
    "stock_prices[stock_prices>23]"
   ]
  },
  {
   "cell_type": "markdown",
   "id": "e41355d1",
   "metadata": {},
   "source": [
    "### Use a built-in function to find the day the price was the highest"
   ]
  },
  {
   "cell_type": "code",
   "execution_count": 49,
   "id": "7517a018",
   "metadata": {},
   "outputs": [
    {
     "data": {
      "text/html": [
       "34"
      ],
      "text/latex": [
       "34"
      ],
      "text/markdown": [
       "34"
      ],
      "text/plain": [
       "[1] 34"
      ]
     },
     "metadata": {},
     "output_type": "display_data"
    }
   ],
   "source": [
    "max(stock_prices)"
   ]
  }
 ],
 "metadata": {
  "kernelspec": {
   "display_name": "R",
   "language": "R",
   "name": "ir"
  },
  "language_info": {
   "codemirror_mode": "r",
   "file_extension": ".r",
   "mimetype": "text/x-r-source",
   "name": "R",
   "pygments_lexer": "r",
   "version": "3.6.1"
  }
 },
 "nbformat": 4,
 "nbformat_minor": 5
}
